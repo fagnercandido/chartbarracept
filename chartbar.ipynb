{
  "nbformat": 4,
  "nbformat_minor": 0,
  "metadata": {
    "colab": {
      "name": "Untitled0.ipynb",
      "provenance": [],
      "authorship_tag": "ABX9TyN74S8V/P0duvMdpl9jNHQK",
      "include_colab_link": true
    },
    "kernelspec": {
      "name": "python3",
      "display_name": "Python 3"
    }
  },
  "cells": [
    {
      "cell_type": "markdown",
      "metadata": {
        "id": "view-in-github",
        "colab_type": "text"
      },
      "source": [
        "<a href=\"https://colab.research.google.com/github/fagnercandido/chartbarracept/blob/master/chartbar.ipynb\" target=\"_parent\"><img src=\"https://colab.research.google.com/assets/colab-badge.svg\" alt=\"Open In Colab\"/></a>"
      ]
    },
    {
      "cell_type": "markdown",
      "metadata": {
        "id": "JM-MgA2N0QQe",
        "colab_type": "text"
      },
      "source": [
        "This a notebook was create a chart bar race with Covid Data Portugal\n",
        "\n",
        "The important sources:\n",
        "1.   Channel [Programação Dinâmica](https://www.youtube.com/watch?v=rIwxjCnvdcY)\n",
        "2.   Datasets [Github DSSG-PT](https://github.com/dssg-pt/covid19pt-data)\n",
        "3.   Dataset [data](https://github.com/dssg-pt/covid19pt-data/blob/master/data.csv)\n",
        "4.   Dataset [concelhos](https://github.com/dssg-pt/covid19pt-data/blob/master/data_concelhos.csv)\n",
        "\n",
        "\n",
        "\n",
        "\n"
      ]
    }
  ]
}